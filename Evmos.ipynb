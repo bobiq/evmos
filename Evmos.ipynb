{
 "cells": [
  {
   "attachments": {},
   "cell_type": "markdown",
   "id": "9ac209f1-b75b-4f8a-b551-1e83fc8c7f23",
   "metadata": {
    "pycharm": {
     "is_executing": true
    }
   },
   "source": [
    "# Best entries and exits for daily trading of EVMOS "
   ]
  },
  {
   "attachments": {},
   "cell_type": "markdown",
   "id": "35bef28b-f1f3-47a7-88ad-047e23a57b18",
   "metadata": {},
   "source": [
    "EVMOS is one of the tokens on Cosmos ecosystem that had generous staking awards since its inception. Staking rewards are awarded at the end of the epoch, which happens to be at the same time every day, at around 9pm CET. Many stakers collect their rewards and immediately sell them causing a drop in price that during bull market tends to recover by the end of the following epoch. \n",
    "\n",
    "I attempted to find the time of the day with the highest and the lowest prices in order to find the best entries and exits for the trades with the following project. "
   ]
  },
  {
   "cell_type": "code",
   "execution_count": 50,
   "id": "0fe48082-871e-4d30-886f-61670858f455",
   "metadata": {},
   "outputs": [],
   "source": [
    "import requests\n",
    "import pandas as pd\n",
    "import numpy as np\n",
    "from datetime import datetime \n",
    "import matplotlib.pyplot as plt\n",
    "import matplotlib.dates as mdates\n",
    "import seaborn as sns"
   ]
  },
  {
   "attachments": {},
   "cell_type": "markdown",
   "id": "e10e4e0f",
   "metadata": {},
   "source": [
    "The prices have orginally been acquired through an API but as it is a moving data I replaced it here with csv file. I would download hourly prices for the past 10 days. "
   ]
  },
  {
   "cell_type": "code",
   "execution_count": 51,
   "id": "a04d2199-f1bb-4cfd-9830-c4e9da7027d2",
   "metadata": {},
   "outputs": [
    {
     "data": {
      "text/html": [
       "<div>\n",
       "<style scoped>\n",
       "    .dataframe tbody tr th:only-of-type {\n",
       "        vertical-align: middle;\n",
       "    }\n",
       "\n",
       "    .dataframe tbody tr th {\n",
       "        vertical-align: top;\n",
       "    }\n",
       "\n",
       "    .dataframe thead th {\n",
       "        text-align: right;\n",
       "    }\n",
       "</style>\n",
       "<table border=\"1\" class=\"dataframe\">\n",
       "  <thead>\n",
       "    <tr style=\"text-align: right;\">\n",
       "      <th></th>\n",
       "      <th>EVMOS</th>\n",
       "      <th>date</th>\n",
       "      <th>time</th>\n",
       "    </tr>\n",
       "    <tr>\n",
       "      <th>datetime</th>\n",
       "      <th></th>\n",
       "      <th></th>\n",
       "      <th></th>\n",
       "    </tr>\n",
       "  </thead>\n",
       "  <tbody>\n",
       "    <tr>\n",
       "      <th>2023-05-23 18:00:00</th>\n",
       "      <td>0.153763</td>\n",
       "      <td>2023-05-23</td>\n",
       "      <td>18:00:00</td>\n",
       "    </tr>\n",
       "    <tr>\n",
       "      <th>2023-05-23 19:00:00</th>\n",
       "      <td>0.154081</td>\n",
       "      <td>2023-05-23</td>\n",
       "      <td>19:00:00</td>\n",
       "    </tr>\n",
       "    <tr>\n",
       "      <th>2023-05-23 20:00:00</th>\n",
       "      <td>0.157089</td>\n",
       "      <td>2023-05-23</td>\n",
       "      <td>20:00:00</td>\n",
       "    </tr>\n",
       "    <tr>\n",
       "      <th>2023-05-23 21:00:00</th>\n",
       "      <td>0.160802</td>\n",
       "      <td>2023-05-23</td>\n",
       "      <td>21:00:00</td>\n",
       "    </tr>\n",
       "    <tr>\n",
       "      <th>2023-05-23 22:00:00</th>\n",
       "      <td>0.171977</td>\n",
       "      <td>2023-05-23</td>\n",
       "      <td>22:00:00</td>\n",
       "    </tr>\n",
       "  </tbody>\n",
       "</table>\n",
       "</div>"
      ],
      "text/plain": [
       "                        EVMOS        date      time\n",
       "datetime                                           \n",
       "2023-05-23 18:00:00  0.153763  2023-05-23  18:00:00\n",
       "2023-05-23 19:00:00  0.154081  2023-05-23  19:00:00\n",
       "2023-05-23 20:00:00  0.157089  2023-05-23  20:00:00\n",
       "2023-05-23 21:00:00  0.160802  2023-05-23  21:00:00\n",
       "2023-05-23 22:00:00  0.171977  2023-05-23  22:00:00"
      ]
     },
     "execution_count": 51,
     "metadata": {},
     "output_type": "execute_result"
    }
   ],
   "source": [
    "price=pd.read_csv('evmos_price_real.csv', usecols=['datetime','EVMOS'], parse_dates=['datetime'])\n",
    "price = price.set_index('datetime')\n",
    "price['date']=price.index.date\n",
    "price['time']=price.index.time\n",
    "price.tail(5)"
   ]
  },
  {
   "attachments": {},
   "cell_type": "markdown",
   "id": "c35046e9",
   "metadata": {},
   "source": [
    "\n",
    "I calculated a daily mean of the prices for each of the days. This will allow me to create a column with the value of the deviation from the mean."
   ]
  },
  {
   "cell_type": "code",
   "execution_count": 53,
   "id": "a7f49a3b",
   "metadata": {},
   "outputs": [
    {
     "data": {
      "text/plain": [
       "date\n",
       "2023-05-13    0.200509\n",
       "2023-05-14    0.198788\n",
       "2023-05-15    0.203434\n",
       "2023-05-16    0.201498\n",
       "2023-05-17    0.189505\n",
       "2023-05-18    0.184357\n",
       "2023-05-19    0.175964\n",
       "2023-05-20    0.169849\n",
       "2023-05-21    0.158136\n",
       "2023-05-22    0.145481\n",
       "2023-05-23    0.147122\n",
       "Name: EVMOS, dtype: float64"
      ]
     },
     "execution_count": 53,
     "metadata": {},
     "output_type": "execute_result"
    }
   ],
   "source": [
    "daily_mean = price.EVMOS.groupby(price['date']).mean()\n",
    "daily_mean.columns=['date','mean']\n",
    "daily_mean"
   ]
  },
  {
   "attachments": {},
   "cell_type": "markdown",
   "id": "e6aca461",
   "metadata": {},
   "source": [
    "I create a new dataframe that contains the prices, daily means and deviation from the mean."
   ]
  },
  {
   "cell_type": "code",
   "execution_count": 80,
   "id": "f45ad927",
   "metadata": {},
   "outputs": [
    {
     "data": {
      "text/html": [
       "<div>\n",
       "<style scoped>\n",
       "    .dataframe tbody tr th:only-of-type {\n",
       "        vertical-align: middle;\n",
       "    }\n",
       "\n",
       "    .dataframe tbody tr th {\n",
       "        vertical-align: top;\n",
       "    }\n",
       "\n",
       "    .dataframe thead th {\n",
       "        text-align: right;\n",
       "    }\n",
       "</style>\n",
       "<table border=\"1\" class=\"dataframe\">\n",
       "  <thead>\n",
       "    <tr style=\"text-align: right;\">\n",
       "      <th></th>\n",
       "      <th>EVMOS_price</th>\n",
       "      <th>date</th>\n",
       "      <th>time</th>\n",
       "      <th>EVMOS_mean</th>\n",
       "      <th>dev_from_mean</th>\n",
       "    </tr>\n",
       "  </thead>\n",
       "  <tbody>\n",
       "    <tr>\n",
       "      <th>236</th>\n",
       "      <td>0.153763</td>\n",
       "      <td>2023-05-23</td>\n",
       "      <td>18:00:00</td>\n",
       "      <td>0.147122</td>\n",
       "      <td>0.006641</td>\n",
       "    </tr>\n",
       "    <tr>\n",
       "      <th>237</th>\n",
       "      <td>0.154081</td>\n",
       "      <td>2023-05-23</td>\n",
       "      <td>19:00:00</td>\n",
       "      <td>0.147122</td>\n",
       "      <td>0.006959</td>\n",
       "    </tr>\n",
       "    <tr>\n",
       "      <th>238</th>\n",
       "      <td>0.157089</td>\n",
       "      <td>2023-05-23</td>\n",
       "      <td>20:00:00</td>\n",
       "      <td>0.147122</td>\n",
       "      <td>0.009967</td>\n",
       "    </tr>\n",
       "    <tr>\n",
       "      <th>239</th>\n",
       "      <td>0.160802</td>\n",
       "      <td>2023-05-23</td>\n",
       "      <td>21:00:00</td>\n",
       "      <td>0.147122</td>\n",
       "      <td>0.013680</td>\n",
       "    </tr>\n",
       "    <tr>\n",
       "      <th>240</th>\n",
       "      <td>0.171977</td>\n",
       "      <td>2023-05-23</td>\n",
       "      <td>22:00:00</td>\n",
       "      <td>0.147122</td>\n",
       "      <td>0.024855</td>\n",
       "    </tr>\n",
       "  </tbody>\n",
       "</table>\n",
       "</div>"
      ],
      "text/plain": [
       "     EVMOS_price        date      time  EVMOS_mean  dev_from_mean\n",
       "236     0.153763  2023-05-23  18:00:00    0.147122       0.006641\n",
       "237     0.154081  2023-05-23  19:00:00    0.147122       0.006959\n",
       "238     0.157089  2023-05-23  20:00:00    0.147122       0.009967\n",
       "239     0.160802  2023-05-23  21:00:00    0.147122       0.013680\n",
       "240     0.171977  2023-05-23  22:00:00    0.147122       0.024855"
      ]
     },
     "execution_count": 80,
     "metadata": {},
     "output_type": "execute_result"
    }
   ],
   "source": [
    "evmos_dev= pd.merge(left=price, right=daily_mean, left_on='date', right_on='date', how='left',suffixes=('_price','_mean'))\n",
    "evmos_dev['dev_from_mean']=evmos_dev['EVMOS_price']-evmos_dev['EVMOS_mean']\n",
    "evmos_dev.reset_index().set_index(['date','time'])\n",
    "evmos_dev.tail(5)"
   ]
  },
  {
   "attachments": {},
   "cell_type": "markdown",
   "id": "cb6c8bdf",
   "metadata": {},
   "source": [
    "We can visualise the divergence from the mean at each hour using a heatmap. The blues show where the prices are highest and yellow when lowest."
   ]
  },
  {
   "cell_type": "code",
   "execution_count": 57,
   "id": "cbcde471",
   "metadata": {},
   "outputs": [
    {
     "data": {
      "image/png": "[encoded data removed]",
      "text/plain": [
       "<Figure size 640x480 with 2 Axes>"
      ]
     },
     "metadata": {},
     "output_type": "display_data"
    }
   ],
   "source": [
    "evmos_dev_pp = pd.pivot_table(evmos_dev, values='dev_from_mean', index=['date'],\n",
    "                    columns=['time'])\n",
    "sns.heatmap(data=evmos_dev_pp,center=0,cmap=\"YlGnBu\")\n",
    "plt.show()"
   ]
  },
  {
   "attachments": {},
   "cell_type": "markdown",
   "id": "28203f0c",
   "metadata": {},
   "source": [
    "We can observe the average prices changes for each hour in the past 10 days on a graph below."
   ]
  },
  {
   "cell_type": "code",
   "execution_count": 72,
   "id": "986e9f04",
   "metadata": {},
   "outputs": [
    {
     "data": {
      "image/png": "[encoded data removed]",
      "text/plain": [
       "<Figure size 640x480 with 1 Axes>"
      ]
     },
     "metadata": {},
     "output_type": "display_data"
    }
   ],
   "source": [
    "#Calculating average deviations from the mean every hour in the past 10 days.\n",
    "time_dev = evmos_dev.groupby('time').dev_from_mean.mean()\n",
    "time_dev.plot(kind='bar')\n",
    "plt.show()"
   ]
  },
  {
   "cell_type": "code",
   "execution_count": 74,
   "id": "a3f09e86",
   "metadata": {},
   "outputs": [
    {
     "name": "stdout",
     "output_type": "stream",
     "text": [
      "The prices are lowest on average at 5:00 and highest at 19:00.\n"
     ]
    }
   ],
   "source": [
    "max_hour = time_dev.idxmax().hour\n",
    "min_hour = time_dev.idxmin().hour\n",
    "print(f'The prices are lowest on average at {min_hour}:00 and highest at {max_hour}:00.')"
   ]
  },
  {
   "attachments": {},
   "cell_type": "markdown",
   "id": "a608aa8b",
   "metadata": {},
   "source": [
    "It seems that the best time to buy is on average at 5am and to sell at 7pm. We can backtest this strategy buy calculating the returns for each of the days in our data."
   ]
  },
  {
   "cell_type": "code",
   "execution_count": 76,
   "id": "a00d8160",
   "metadata": {},
   "outputs": [
    {
     "data": {
      "text/html": [
       "<div>\n",
       "<style scoped>\n",
       "    .dataframe tbody tr th:only-of-type {\n",
       "        vertical-align: middle;\n",
       "    }\n",
       "\n",
       "    .dataframe tbody tr th {\n",
       "        vertical-align: top;\n",
       "    }\n",
       "\n",
       "    .dataframe thead th {\n",
       "        text-align: right;\n",
       "    }\n",
       "</style>\n",
       "<table border=\"1\" class=\"dataframe\">\n",
       "  <thead>\n",
       "    <tr style=\"text-align: right;\">\n",
       "      <th></th>\n",
       "      <th>EVMOS</th>\n",
       "      <th>date</th>\n",
       "      <th>time</th>\n",
       "      <th>signal</th>\n",
       "      <th>return (%)</th>\n",
       "    </tr>\n",
       "    <tr>\n",
       "      <th>datetime</th>\n",
       "      <th></th>\n",
       "      <th></th>\n",
       "      <th></th>\n",
       "      <th></th>\n",
       "      <th></th>\n",
       "    </tr>\n",
       "  </thead>\n",
       "  <tbody>\n",
       "    <tr>\n",
       "      <th>2023-05-14 05:00:00</th>\n",
       "      <td>0.189376</td>\n",
       "      <td>2023-05-14</td>\n",
       "      <td>05:00:00</td>\n",
       "      <td>buy</td>\n",
       "      <td>NaN</td>\n",
       "    </tr>\n",
       "    <tr>\n",
       "      <th>2023-05-14 19:00:00</th>\n",
       "      <td>0.208241</td>\n",
       "      <td>2023-05-14</td>\n",
       "      <td>19:00:00</td>\n",
       "      <td>sell</td>\n",
       "      <td>9.96</td>\n",
       "    </tr>\n",
       "    <tr>\n",
       "      <th>2023-05-15 05:00:00</th>\n",
       "      <td>0.191121</td>\n",
       "      <td>2023-05-15</td>\n",
       "      <td>05:00:00</td>\n",
       "      <td>buy</td>\n",
       "      <td>-8.22</td>\n",
       "    </tr>\n",
       "    <tr>\n",
       "      <th>2023-05-15 19:00:00</th>\n",
       "      <td>0.216665</td>\n",
       "      <td>2023-05-15</td>\n",
       "      <td>19:00:00</td>\n",
       "      <td>sell</td>\n",
       "      <td>13.37</td>\n",
       "    </tr>\n",
       "    <tr>\n",
       "      <th>2023-05-16 05:00:00</th>\n",
       "      <td>0.196141</td>\n",
       "      <td>2023-05-16</td>\n",
       "      <td>05:00:00</td>\n",
       "      <td>buy</td>\n",
       "      <td>-9.47</td>\n",
       "    </tr>\n",
       "    <tr>\n",
       "      <th>2023-05-16 19:00:00</th>\n",
       "      <td>0.207857</td>\n",
       "      <td>2023-05-16</td>\n",
       "      <td>19:00:00</td>\n",
       "      <td>sell</td>\n",
       "      <td>5.97</td>\n",
       "    </tr>\n",
       "    <tr>\n",
       "      <th>2023-05-17 05:00:00</th>\n",
       "      <td>0.179542</td>\n",
       "      <td>2023-05-17</td>\n",
       "      <td>05:00:00</td>\n",
       "      <td>buy</td>\n",
       "      <td>-13.62</td>\n",
       "    </tr>\n",
       "    <tr>\n",
       "      <th>2023-05-17 19:00:00</th>\n",
       "      <td>0.199620</td>\n",
       "      <td>2023-05-17</td>\n",
       "      <td>19:00:00</td>\n",
       "      <td>sell</td>\n",
       "      <td>11.18</td>\n",
       "    </tr>\n",
       "    <tr>\n",
       "      <th>2023-05-18 19:00:00</th>\n",
       "      <td>0.185994</td>\n",
       "      <td>2023-05-18</td>\n",
       "      <td>19:00:00</td>\n",
       "      <td>sell</td>\n",
       "      <td>3.02</td>\n",
       "    </tr>\n",
       "    <tr>\n",
       "      <th>2023-05-18 05:00:00</th>\n",
       "      <td>0.180541</td>\n",
       "      <td>2023-05-18</td>\n",
       "      <td>05:00:00</td>\n",
       "      <td>buy</td>\n",
       "      <td>-9.56</td>\n",
       "    </tr>\n",
       "    <tr>\n",
       "      <th>2023-05-19 05:00:00</th>\n",
       "      <td>0.166371</td>\n",
       "      <td>2023-05-19</td>\n",
       "      <td>05:00:00</td>\n",
       "      <td>buy</td>\n",
       "      <td>-10.55</td>\n",
       "    </tr>\n",
       "    <tr>\n",
       "      <th>2023-05-19 19:00:00</th>\n",
       "      <td>0.187944</td>\n",
       "      <td>2023-05-19</td>\n",
       "      <td>19:00:00</td>\n",
       "      <td>sell</td>\n",
       "      <td>12.97</td>\n",
       "    </tr>\n",
       "    <tr>\n",
       "      <th>2023-05-20 05:00:00</th>\n",
       "      <td>0.163582</td>\n",
       "      <td>2023-05-20</td>\n",
       "      <td>05:00:00</td>\n",
       "      <td>buy</td>\n",
       "      <td>-12.96</td>\n",
       "    </tr>\n",
       "    <tr>\n",
       "      <th>2023-05-20 19:00:00</th>\n",
       "      <td>0.176295</td>\n",
       "      <td>2023-05-20</td>\n",
       "      <td>19:00:00</td>\n",
       "      <td>sell</td>\n",
       "      <td>7.77</td>\n",
       "    </tr>\n",
       "    <tr>\n",
       "      <th>2023-05-21 05:00:00</th>\n",
       "      <td>0.154628</td>\n",
       "      <td>2023-05-21</td>\n",
       "      <td>05:00:00</td>\n",
       "      <td>buy</td>\n",
       "      <td>-12.29</td>\n",
       "    </tr>\n",
       "    <tr>\n",
       "      <th>2023-05-21 19:00:00</th>\n",
       "      <td>0.160492</td>\n",
       "      <td>2023-05-21</td>\n",
       "      <td>19:00:00</td>\n",
       "      <td>sell</td>\n",
       "      <td>3.79</td>\n",
       "    </tr>\n",
       "    <tr>\n",
       "      <th>2023-05-22 05:00:00</th>\n",
       "      <td>0.137084</td>\n",
       "      <td>2023-05-22</td>\n",
       "      <td>05:00:00</td>\n",
       "      <td>buy</td>\n",
       "      <td>-14.59</td>\n",
       "    </tr>\n",
       "    <tr>\n",
       "      <th>2023-05-22 19:00:00</th>\n",
       "      <td>0.149924</td>\n",
       "      <td>2023-05-22</td>\n",
       "      <td>19:00:00</td>\n",
       "      <td>sell</td>\n",
       "      <td>9.37</td>\n",
       "    </tr>\n",
       "    <tr>\n",
       "      <th>2023-05-23 05:00:00</th>\n",
       "      <td>0.135634</td>\n",
       "      <td>2023-05-23</td>\n",
       "      <td>05:00:00</td>\n",
       "      <td>buy</td>\n",
       "      <td>-9.53</td>\n",
       "    </tr>\n",
       "    <tr>\n",
       "      <th>2023-05-23 19:00:00</th>\n",
       "      <td>0.154081</td>\n",
       "      <td>2023-05-23</td>\n",
       "      <td>19:00:00</td>\n",
       "      <td>sell</td>\n",
       "      <td>13.60</td>\n",
       "    </tr>\n",
       "  </tbody>\n",
       "</table>\n",
       "</div>"
      ],
      "text/plain": [
       "                        EVMOS        date      time signal  return (%)\n",
       "datetime                                                              \n",
       "2023-05-14 05:00:00  0.189376  2023-05-14  05:00:00    buy         NaN\n",
       "2023-05-14 19:00:00  0.208241  2023-05-14  19:00:00   sell        9.96\n",
       "2023-05-15 05:00:00  0.191121  2023-05-15  05:00:00    buy       -8.22\n",
       "2023-05-15 19:00:00  0.216665  2023-05-15  19:00:00   sell       13.37\n",
       "2023-05-16 05:00:00  0.196141  2023-05-16  05:00:00    buy       -9.47\n",
       "2023-05-16 19:00:00  0.207857  2023-05-16  19:00:00   sell        5.97\n",
       "2023-05-17 05:00:00  0.179542  2023-05-17  05:00:00    buy      -13.62\n",
       "2023-05-17 19:00:00  0.199620  2023-05-17  19:00:00   sell       11.18\n",
       "2023-05-18 19:00:00  0.185994  2023-05-18  19:00:00   sell        3.02\n",
       "2023-05-18 05:00:00  0.180541  2023-05-18  05:00:00    buy       -9.56\n",
       "2023-05-19 05:00:00  0.166371  2023-05-19  05:00:00    buy      -10.55\n",
       "2023-05-19 19:00:00  0.187944  2023-05-19  19:00:00   sell       12.97\n",
       "2023-05-20 05:00:00  0.163582  2023-05-20  05:00:00    buy      -12.96\n",
       "2023-05-20 19:00:00  0.176295  2023-05-20  19:00:00   sell        7.77\n",
       "2023-05-21 05:00:00  0.154628  2023-05-21  05:00:00    buy      -12.29\n",
       "2023-05-21 19:00:00  0.160492  2023-05-21  19:00:00   sell        3.79\n",
       "2023-05-22 05:00:00  0.137084  2023-05-22  05:00:00    buy      -14.59\n",
       "2023-05-22 19:00:00  0.149924  2023-05-22  19:00:00   sell        9.37\n",
       "2023-05-23 05:00:00  0.135634  2023-05-23  05:00:00    buy       -9.53\n",
       "2023-05-23 19:00:00  0.154081  2023-05-23  19:00:00   sell       13.60"
      ]
     },
     "execution_count": 76,
     "metadata": {},
     "output_type": "execute_result"
    }
   ],
   "source": [
    "buysell= price[(price.index.hour == min_hour )| (price.index.hour== max_hour)].copy()\n",
    "# Create a dictionary that maps integers to strings\n",
    "mapping = {min_hour:'buy', max_hour:'sell'}\n",
    "\n",
    "# Convert the 'bad_conditions' integers to strings using the 'mapping'\n",
    "buysell['signal'] = buysell.index.hour.map(mapping)\n",
    "buysell['return (%)']= (buysell.EVMOS.pct_change()* 100).round(2)\n",
    "buysell.dropna()\n",
    "buysell.sort_values(by='date')"
   ]
  },
  {
   "cell_type": "code",
   "execution_count": 77,
   "id": "0f4d7d0a-2740-48c1-ab74-4baaf6ed4389",
   "metadata": {},
   "outputs": [],
   "source": [
    "sell = buysell[buysell['signal']=='sell']\n",
    "avg_return = sell[\"return (%)\"].mean().round(2)"
   ]
  },
  {
   "cell_type": "code",
   "execution_count": 78,
   "id": "5eff0694",
   "metadata": {},
   "outputs": [
    {
     "data": {
      "image/png": "[encoded data removed]",
      "text/plain": [
       "<Figure size 575.875x500 with 1 Axes>"
      ]
     },
     "metadata": {},
     "output_type": "display_data"
    }
   ],
   "source": [
    "\n",
    "buysell['date'] = pd.to_datetime(buysell['date'])\n",
    "buysell['date_ordinal'] = buysell['date'].apply(lambda date: mdates.date2num(date.to_pydatetime()))\n",
    "\n",
    "sns.lmplot(data=buysell, y= 'return (%)', x='date_ordinal', hue='signal')\n",
    "\n",
    "# Format x axis to display dates instead of numbers\n",
    "plt.gca().xaxis.set_major_formatter(mdates.DateFormatter('%d/%m/%Y'))\n",
    "plt.gca().xaxis.set_major_locator(mdates.DayLocator())\n",
    "plt.gcf().autofmt_xdate()\n"
   ]
  },
  {
   "cell_type": "code",
   "execution_count": 82,
   "id": "699d67c1",
   "metadata": {},
   "outputs": [
    {
     "name": "stdout",
     "output_type": "stream",
     "text": [
      "You can make on average 9.1% a day by buying EVMOS at 5:00 and selling at 19:00 every day!\n"
     ]
    }
   ],
   "source": [
    "print(f\"You can make on average {avg_return}% a day by buying EVMOS at {min_hour}:00 and selling at {max_hour}:00 every day!\")"
   ]
  },
  {
   "cell_type": "code",
   "execution_count": null,
   "id": "73f7aa4d",
   "metadata": {},
   "outputs": [],
   "source": []
  }
 ],
 "metadata": {
  "kernelspec": {
   "display_name": "Python 3 (ipykernel)",
   "language": "python",
   "name": "python3"
  },
  "language_info": {
   "codemirror_mode": {
    "name": "ipython",
    "version": 3
   },
   "file_extension": ".py",
   "mimetype": "text/x-python",
   "name": "python",
   "nbconvert_exporter": "python",
   "pygments_lexer": "ipython3",
   "version": "3.10.11"
  }
 },
 "nbformat": 4,
 "nbformat_minor": 5
}
